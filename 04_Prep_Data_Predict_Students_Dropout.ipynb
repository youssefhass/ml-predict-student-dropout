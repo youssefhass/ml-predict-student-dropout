{
 "cells": [
  {
   "cell_type": "code",
   "execution_count": 34,
   "id": "b81520a0",
   "metadata": {},
   "outputs": [],
   "source": [
    "#Import required packages\n",
    "\n",
    "from ucimlrepo import fetch_ucirepo\n",
    "\n",
    "import os\n",
    "import pandas as pd\n",
    "import pprint\n",
    "\n",
    "from sklearn.preprocessing import LabelEncoder, StandardScaler\n"
   ]
  },
  {
   "cell_type": "code",
   "execution_count": 35,
   "id": "4b91ebfd",
   "metadata": {},
   "outputs": [],
   "source": [
    "\n",
    "# Load the dataset into a Pandas dataframe\n",
    "df_data = pd.read_csv('data/cleaned_data.csv')"
   ]
  },
  {
   "cell_type": "code",
   "execution_count": 37,
   "id": "545d0ccf",
   "metadata": {},
   "outputs": [
    {
     "data": {
      "text/plain": [
       "(49.93, 32.12, 17.95)"
      ]
     },
     "execution_count": 37,
     "metadata": {},
     "output_type": "execute_result"
    }
   ],
   "source": [
    "# Function to check the distribution of the target variable\n",
    "def data_distribution(df, target): \n",
    "    \"\"\"\n",
    "    This function calculates the percentage distribution of each category in the target variable.\n",
    "    \n",
    "    Parameters:\n",
    "    df (pd.DataFrame): The DataFrame containing the data.\n",
    "    target (str): The name of the target column.\n",
    "\n",
    "    Returns:\n",
    "    tuple: A tuple containing the percentage of 'Graduate', 'Dropout', and 'Enrolled' in the target variable.\n",
    "    \"\"\"\n",
    "    \n",
    "    # Calculate the percentage of students who graduated\n",
    "    graduated = round(len(df[df[target] == \"Graduate\"]) / len(df) * 100, 2)\n",
    "    \n",
    "    # Calculate the percentage of students who dropped out\n",
    "    dropped = round(len(df[df[target] == \"Dropout\"]) / len(df) * 100, 2)\n",
    "    \n",
    "    # Calculate the percentage of students who are still enrolled\n",
    "    enrolled = round(len(df[df[target] == \"Enrolled\"]) / len(df) * 100, 2)\n",
    "    \n",
    "    return graduated, dropped, enrolled\n",
    "\n",
    "\"\"\"\n",
    "This step calls the data_distribution function, passing the DataFrame and the name of the target column.\n",
    "It calculates and returns the percentage distribution of 'Graduate', 'Dropout', and 'Enrolled' categories\n",
    "in the target variable. This is useful to understand the class imbalance in the dataset, which can affect\n",
    "the performance of machine learning models.\n",
    "\"\"\"\n",
    "\n",
    "# Example usage of the function\n",
    "data_distribution(df_data, \"Target\")\n"
   ]
  },
  {
   "cell_type": "markdown",
   "id": "6883b776",
   "metadata": {},
   "source": [
    "### Feature Engineering"
   ]
  },
  {
   "cell_type": "code",
   "execution_count": 40,
   "id": "861431d4",
   "metadata": {},
   "outputs": [],
   "source": [
    "# Step 13: Create New Features\n",
    "df_data['age_admission_ratio'] = df_data['Age_at_enrollment'] / df_data['Admission_grade']"
   ]
  },
  {
   "cell_type": "code",
   "execution_count": 41,
   "id": "9a0cb08f",
   "metadata": {},
   "outputs": [],
   "source": [
    "# Step 14: Normalize/Standardize Data\n",
    "scaler = StandardScaler()\n",
    "df_data[['Admission_grade', 'Age_at_enrollment', 'age_admission_ratio']] = scaler.fit_transform(df_data[['Admission_grade', 'Age_at_enrollment', 'age_admission_ratio']])"
   ]
  },
  {
   "cell_type": "code",
   "execution_count": 43,
   "id": "fb1a5a39",
   "metadata": {},
   "outputs": [],
   "source": [
    "# Encode the 'Target' column into numerical values\n",
    "label_encoder = LabelEncoder()\n",
    "df_data['Target_encoded'] = label_encoder.fit_transform(df_data['Target'])\n",
    "\"\"\"\n",
    "This step converts the categorical target variable (e.g., 'Graduate', 'Dropout', 'Enrolled') \n",
    "into numerical values, which are required for correlation analysis and machine learning models.\n",
    "\"\"\"\n",
    "\n",
    "# Compute the correlation matrix excluding the original 'Target' column\n",
    "correlation_matrix = df_data.drop(columns=['Target']).corr()"
   ]
  },
  {
   "cell_type": "code",
   "execution_count": 17,
   "id": "f2beacdc",
   "metadata": {},
   "outputs": [
    {
     "name": "stdout",
     "output_type": "stream",
     "text": [
      "Prepared for ML data has been saved as 'prep_data.csv'.\n"
     ]
    }
   ],
   "source": [
    "# Save the cleaned and prepared data\n",
    "df_data.to_csv('data/prep_data.csv', index=False)\n",
    "print(\"Prepared for ML data has been saved as 'prep_data.csv'.\")"
   ]
  }
 ],
 "metadata": {
  "kernelspec": {
   "display_name": "Python 3 (ipykernel)",
   "language": "python",
   "name": "python3"
  },
  "language_info": {
   "codemirror_mode": {
    "name": "ipython",
    "version": 3
   },
   "file_extension": ".py",
   "mimetype": "text/x-python",
   "name": "python",
   "nbconvert_exporter": "python",
   "pygments_lexer": "ipython3",
   "version": "3.11.5"
  }
 },
 "nbformat": 4,
 "nbformat_minor": 5
}
