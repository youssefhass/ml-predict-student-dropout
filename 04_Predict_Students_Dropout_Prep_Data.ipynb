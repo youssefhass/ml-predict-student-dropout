{
 "cells": [
  {
   "cell_type": "code",
   "execution_count": null,
   "id": "4bea416a",
   "metadata": {},
   "outputs": [],
   "source": [
    "attr_map = {\n",
    "    'Marital Status': {\n",
    "        1: 'Single',\n",
    "        2: 'Married',\n",
    "        3: 'Widower',\n",
    "        4: 'Divorced'\n",
    "    },\n",
    "    'Daytime/evening attendance': {\n",
    "        1: 'Daytime',\n",
    "        0: 'Evening'\n",
    "    },\n",
    "    'Gender': {\n",
    "        1: 'Male',\n",
    "        0: 'Female'\n",
    "    },\n",
    "    'Displaced': {\n",
    "        1: 'Yes',\n",
    "        0: 'No'\n",
    "    },\n",
    "    'Educational special needs': {\n",
    "        1: 'Yes',\n",
    "        0: 'No'\n",
    "    },\n",
    "    'Debtor': {\n",
    "        1: 'Yes',\n",
    "        0: 'No'\n",
    "    },\n",
    "    'Tuition fees up to date': {\n",
    "        1: 'Yes',\n",
    "        0: 'No'\n",
    "    },\n",
    "    'Scholarship holder': {\n",
    "        1: 'Yes',\n",
    "        0: 'No'\n",
    "    },\n",
    "    'International': {\n",
    "        1: 'Yes',\n",
    "        0: 'No'\n",
    "    }\n",
    "}"
   ]
  }
 ],
 "metadata": {
  "kernelspec": {
   "display_name": "Python 3 (ipykernel)",
   "language": "python",
   "name": "python3"
  },
  "language_info": {
   "codemirror_mode": {
    "name": "ipython",
    "version": 3
   },
   "file_extension": ".py",
   "mimetype": "text/x-python",
   "name": "python",
   "nbconvert_exporter": "python",
   "pygments_lexer": "ipython3",
   "version": "3.11.5"
  }
 },
 "nbformat": 4,
 "nbformat_minor": 5
}
