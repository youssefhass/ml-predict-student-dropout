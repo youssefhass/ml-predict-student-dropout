{
 "cells": [
  {
   "cell_type": "code",
   "execution_count": 2,
   "id": "b81520a0",
   "metadata": {},
   "outputs": [],
   "source": [
    "#Import required packages\n",
    "\n",
    "from ucimlrepo import fetch_ucirepo\n",
    "\n",
    "import os\n",
    "import pandas as pd\n",
    "import pprint"
   ]
  },
  {
   "cell_type": "code",
   "execution_count": 3,
   "id": "e3f2aef1",
   "metadata": {},
   "outputs": [
    {
     "name": "stdout",
     "output_type": "stream",
     "text": [
      "Dataset fetched successfully.\n",
      "Data extracted successfully.\n"
     ]
    }
   ],
   "source": [
    "# Fetch dataset from source ucirepo with id=697\n",
    "try:\n",
    "    predict_students_dropout = fetch_ucirepo(id=697)\n",
    "    print(\"Dataset fetched successfully.\")\n",
    "except Exception as e:\n",
    "    print(f\"Error fetching dataset: {e}\")\n",
    "    raise\n",
    "\n",
    "# Data (as pandas dataframes)\n",
    "try:\n",
    "    X = predict_students_dropout.data.features\n",
    "    y = predict_students_dropout.data.targets\n",
    "    print(\"Data extracted successfully.\")\n",
    "except Exception as e:\n",
    "    print(f\"Error extracting data: {e}\")\n",
    "    raise"
   ]
  },
  {
   "cell_type": "code",
   "execution_count": 12,
   "id": "1fbecc60",
   "metadata": {},
   "outputs": [
    {
     "name": "stdout",
     "output_type": "stream",
     "text": [
      "Features and target combined successfully.\n"
     ]
    }
   ],
   "source": [
    "# Combine features and target into a single DataFrame\n",
    "try:\n",
    "    df_data = pd.concat([X, y], axis=1)\n",
    "    print(\"Features and target combined successfully.\")\n",
    "except Exception as e:\n",
    "    print(f\"Error combining features and target: {e}\")\n",
    "    raise"
   ]
  },
  {
   "cell_type": "code",
   "execution_count": 13,
   "id": "4bea416a",
   "metadata": {},
   "outputs": [
    {
     "name": "stdout",
     "output_type": "stream",
     "text": [
      "Marital Status                                    0\n",
      "Application mode                                  0\n",
      "Application order                                 0\n",
      "Course                                            0\n",
      "Daytime/evening attendance                        0\n",
      "Previous qualification                            0\n",
      "Previous qualification (grade)                    0\n",
      "Nacionality                                       0\n",
      "Mother's qualification                            0\n",
      "Father's qualification                            0\n",
      "Mother's occupation                               0\n",
      "Father's occupation                               0\n",
      "Admission grade                                   0\n",
      "Displaced                                         0\n",
      "Educational special needs                         0\n",
      "Debtor                                            0\n",
      "Tuition fees up to date                           0\n",
      "Gender                                            0\n",
      "Scholarship holder                                0\n",
      "Age at enrollment                                 0\n",
      "International                                     0\n",
      "Curricular units 1st sem (credited)               0\n",
      "Curricular units 1st sem (enrolled)               0\n",
      "Curricular units 1st sem (evaluations)            0\n",
      "Curricular units 1st sem (approved)               0\n",
      "Curricular units 1st sem (grade)                  0\n",
      "Curricular units 1st sem (without evaluations)    0\n",
      "Curricular units 2nd sem (credited)               0\n",
      "Curricular units 2nd sem (enrolled)               0\n",
      "Curricular units 2nd sem (evaluations)            0\n",
      "Curricular units 2nd sem (approved)               0\n",
      "Curricular units 2nd sem (grade)                  0\n",
      "Curricular units 2nd sem (without evaluations)    0\n",
      "Unemployment rate                                 0\n",
      "Inflation rate                                    0\n",
      "GDP                                               0\n",
      "Target                                            0\n",
      "dtype: int64\n"
     ]
    }
   ],
   "source": [
    "# Missing values:\n",
    "print(df_data.isnull().sum())"
   ]
  },
  {
   "cell_type": "code",
   "execution_count": 14,
   "id": "b55e6adb",
   "metadata": {},
   "outputs": [
    {
     "data": {
      "text/plain": [
       "(49.93, 32.12, 17.95)"
      ]
     },
     "execution_count": 14,
     "metadata": {},
     "output_type": "execute_result"
    }
   ],
   "source": [
    "# Imbalance:\n",
    "def data_distribution (df, target): \n",
    "    graduated = round(len(df[df[target] == \"Graduate\"]) / len(df) * 100, 2)\n",
    "    dropped = round(len(df[df[target] == \"Dropout\"]) / len(df) * 100, 2)\n",
    "    enrolled = round(len(df[df[target] == \"Enrolled\"]) / len(df) * 100, 2)\n",
    "    return graduated, dropped, enrolled\n",
    "    \n",
    "data_distribution(df_data, \"Target\")"
   ]
  }
 ],
 "metadata": {
  "kernelspec": {
   "display_name": "Python 3 (ipykernel)",
   "language": "python",
   "name": "python3"
  },
  "language_info": {
   "codemirror_mode": {
    "name": "ipython",
    "version": 3
   },
   "file_extension": ".py",
   "mimetype": "text/x-python",
   "name": "python",
   "nbconvert_exporter": "python",
   "pygments_lexer": "ipython3",
   "version": "3.11.5"
  }
 },
 "nbformat": 4,
 "nbformat_minor": 5
}
