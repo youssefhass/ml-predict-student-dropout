{
 "cells": [
  {
   "cell_type": "markdown",
   "metadata": {},
   "source": [
    "\n",
    "\n",
    "### File Information\n",
    "\n",
    "- **Developer**: Youssef\n",
    "- **File Name**: AgeGenderHypothesis.ipynb\n",
    "- **Course**: Data Analytics MSc\n",
    "- **Purpose**: This file runs a series of tests to analyze aspects of the Predict students' dropout and academic success dataset.\n",
    "\n"
   ]
  }
 ],
 "metadata": {
  "kernelspec": {
   "display_name": "base",
   "language": "python",
   "name": "python3"
  },
  "language_info": {
   "name": "python",
   "version": "3.11.5"
  }
 },
 "nbformat": 4,
 "nbformat_minor": 2
}
