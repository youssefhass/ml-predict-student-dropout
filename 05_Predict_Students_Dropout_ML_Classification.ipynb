{
 "cells": [
  {
   "cell_type": "markdown",
   "id": "3beaacc5",
   "metadata": {},
   "source": [
    "# Predicting Students' Dropout and Academic Success\n",
    "\n",
    "This project aims to predict student dropout rates and academic success using various machine learning techniques. The dataset used for this analysis is sourced from the [UCI Machine Learning Repository](https://archive.ics.uci.edu/dataset/697/predict+students+dropout+and+academic+success).\n",
    "\n",
    "## Project Outline\n",
    "\n",
    "1. **Download and Load the Data:**\n",
    "   - Download the dataset and load it into a Pandas DataFrame.\n",
    "\n",
    "2. **Explore and Preprocess the Data:**\n",
    "   - Understand the features and target variable.\n",
    "   - Handle missing values and outliers.\n",
    "   - Encode categorical variables.\n",
    "   - Normalize/standardize numerical features.\n",
    "   \n",
    "   Please click this link to access:[EDA Notebook](./Predict_Students_Dropout_EDA.ipynb).\n",
    "\n",
    "3. **Split the Data:**\n",
    "   - Split the dataset into training and testing sets.\n",
    "\n",
    "4. **Build Classification Models:**\n",
    "   - Train multiple classification models such as Logistic Regression, Random Forest, and SVM.\n",
    "   - Evaluate their performance using metrics like accuracy, precision, recall, and F1-score.\n",
    "\n",
    "5. **Feature Selection and Hyperparameter Tuning:**\n",
    "   - Perform feature selection to identify important features.\n",
    "   - Tune hyperparameters using Grid Search or Random Search.\n",
    "\n",
    "6. **Evaluate and Compare Models:**\n",
    "   - Compare the models based on their performance metrics.\n",
    "   - Choose the best-performing model.\n",
    "\n",
    "7. **Model Interpretation and Insights:**\n",
    "   - Interpret the model to understand which features are most influential.\n",
    "   - Provide insights and recommendations based on the findings."
   ]
  },
  {
   "cell_type": "code",
   "execution_count": 29,
   "id": "e965bff4",
   "metadata": {},
   "outputs": [
    {
     "data": {
      "text/plain": [
       "' install the required package to fetch the dataset for this project\\nfrom the UCI Machine Learning Repository\\xa0'"
      ]
     },
     "execution_count": 29,
     "metadata": {},
     "output_type": "execute_result"
    }
   ],
   "source": [
    "\"\"\" install the required package to fetch the dataset for this project\n",
    "from the UCI Machine Learning Repository \"\"\"\n",
    "\n",
    "#%pip install ucimlrepo\n",
    "#%pip install xgboost\n",
    "#%pip install cmake\n",
    "#%pip install catboost"
   ]
  },
  {
   "cell_type": "code",
   "execution_count": 1,
   "id": "654c5810",
   "metadata": {},
   "outputs": [],
   "source": [
    "#Import required packages\n",
    "\n",
    "from ucimlrepo import fetch_ucirepo\n",
    "\n",
    "import numpy as np\n",
    "import pandas as pd\n",
    "import matplotlib.pyplot as plt\n",
    "import seaborn as sns\n",
    "\n",
    "from sklearn.linear_model import LogisticRegression\n",
    "from sklearn.neighbors import KNeighborsClassifier\n",
    "from sklearn.tree import DecisionTreeClassifier\n",
    "from sklearn.naive_bayes import GaussianNB\n",
    "from sklearn.svm import SVC\n",
    "from sklearn.ensemble import RandomForestClassifier, AdaBoostClassifier\n",
    "from xgboost import XGBClassifier\n",
    "from sklearn.preprocessing import RobustScaler\n",
    "from catboost import CatBoostClassifier\n",
    "from sklearn.neural_network import MLPClassifier\n",
    "\n",
    "from sklearn.feature_selection import SelectFromModel\n",
    "from sklearn.pipeline import Pipeline\n",
    "from sklearn.preprocessing import StandardScaler, MinMaxScaler\n",
    "from sklearn.model_selection import GridSearchCV, train_test_split\n",
    "from sklearn.preprocessing import LabelEncoder\n",
    "from sklearn.utils import resample\n",
    "\n",
    "from sklearn.metrics import roc_curve, roc_auc_score\n",
    "from sklearn.preprocessing import label_binarize\n",
    "from sklearn.model_selection import cross_val_score\n",
    "\n",
    "from sklearn.metrics import accuracy_score, precision_score, recall_score, f1_score, confusion_matrix, classification_report"
   ]
  },
  {
   "cell_type": "code",
   "execution_count": 5,
   "id": "aa7f8081",
   "metadata": {},
   "outputs": [],
   "source": [
    "# Load the dataset\n",
    "df = pd.read_csv('data/prep_data.csv')"
   ]
  },
  {
   "cell_type": "code",
   "execution_count": null,
   "id": "1cc5d395",
   "metadata": {},
   "outputs": [],
   "source": []
  }
 ],
 "metadata": {
  "kernelspec": {
   "display_name": "Python 3 (ipykernel)",
   "language": "python",
   "name": "python3"
  },
  "language_info": {
   "codemirror_mode": {
    "name": "ipython",
    "version": 3
   },
   "file_extension": ".py",
   "mimetype": "text/x-python",
   "name": "python",
   "nbconvert_exporter": "python",
   "pygments_lexer": "ipython3",
   "version": "3.11.5"
  }
 },
 "nbformat": 4,
 "nbformat_minor": 5
}
