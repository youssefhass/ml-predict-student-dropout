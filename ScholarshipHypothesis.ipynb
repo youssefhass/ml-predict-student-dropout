{
 "cells": [
  {
   "cell_type": "markdown",
   "metadata": {},
   "source": [
    "### File Information\n",
    "\n",
    "- **Developer**: Youssef\n",
    "- **File Name**: ScholarshipHypothesis.ipynb\n",
    "- **Course**: Data Analytics MSc\n",
    "- **Purpose**: This file runs a series of tests to analyze aspects of the Predict students' dropout and academic success dataset."
   ]
  },
  {
   "cell_type": "code",
   "execution_count": 2,
   "metadata": {},
   "outputs": [],
   "source": [
    "# Import packages\n",
    "from ucimlrepo import fetch_ucirepo\n",
    "import matplotlib.pyplot as plt\n",
    "import pandas as pd\n",
    "import numpy as np"
   ]
  },
  {
   "cell_type": "code",
   "execution_count": 3,
   "metadata": {},
   "outputs": [],
   "source": [
    "# fetch dataset\n",
    "predict_students_dropout_and_academic_success = fetch_ucirepo(id=697)\n",
    "\n",
    "# data (as pandas dataframes)\n",
    "X = predict_students_dropout_and_academic_success.data.features\n",
    "y = predict_students_dropout_and_academic_success.data.targets"
   ]
  },
  {
   "cell_type": "code",
   "execution_count": 5,
   "metadata": {},
   "outputs": [
    {
     "name": "stdout",
     "output_type": "stream",
     "text": [
      "Target Background\n",
      "-----------------\n",
      "2209\n",
      "794\n",
      "1421\n"
     ]
    }
   ],
   "source": [
    "# SCHOLARSHIPS AND DROPOUTS\n",
    "\n",
    "# General Background on Target Column\n",
    "d = y.query('Target == \"Dropout\"').Target.count()\n",
    "g = y.query('Target == \"Graduate\"').Target.count()\n",
    "e = y.query('Target == \"Enrolled\"').Target.count()\n",
    "print(\"Target Background\\n-----------------\")\n",
    "\n",
    "print(g)\n",
    "print(e)\n",
    "print(d)"
   ]
  },
  {
   "cell_type": "code",
   "execution_count": 10,
   "metadata": {},
   "outputs": [
    {
     "name": "stdout",
     "output_type": "stream",
     "text": [
      "Number of students with scholarships: 1099\n",
      "Number of students without scholarships: 3325\n"
     ]
    }
   ],
   "source": [
    "# General background on Scholarship Column\n",
    "\n",
    "# Avoid modifying the original DataFrame directly to prevent warnings\n",
    "X_copy = X.copy()\n",
    "\n",
    "# Rename the 'Scholarship holder' column to 'sh'\n",
    "X_copy.rename(columns={'Scholarship holder': 'sh'}, inplace=True)\n",
    "\n",
    "# Count the number of students with and without scholarships\n",
    "numS = X_copy.query('sh == 1').sh.count()\n",
    "numNoS = X_copy.query('sh == 0').sh.count()\n",
    "\n",
    "# Print the counts\n",
    "print(\"Number of students with scholarships:\", numS)\n",
    "print(\"Number of students without scholarships:\", numNoS)\n",
    "\n",
    "# Variables\n",
    "# ---------\n",
    "# Initialize counters for various student categories\n",
    "dropout_noS = 0  # Number of students without scholarships who drop out\n",
    "dropout_S = 0  # Number of students with scholarships who drop out\n",
    "e_G_noS = 0  # Number of students without scholarships who are enrolled or graduate\n",
    "e_G_S = 0  # Number of students with scholarships who are enrolled or graduate\n",
    "\n",
    "# Example total student count (update with actual data if available)\n",
    "total_students = 4424.0"
   ]
  },
  {
   "cell_type": "code",
   "execution_count": 13,
   "metadata": {},
   "outputs": [],
   "source": [
    "# Formatting the dataframe\n",
    "# ------------------------\n",
    "df = X_copy[['sh']]  # grab scholarship column from X\n",
    "df = pd.concat([df, y], axis=1, join=\"inner\")  # combine S column with Y column\n",
    "df = df.reset_index()  # Set the pointer to first value in dataframe"
   ]
  },
  {
   "cell_type": "code",
   "execution_count": 15,
   "metadata": {},
   "outputs": [],
   "source": [
    "# Iterating through new dataframe\n",
    "# -------------------------------\n",
    "for index, row in df.iterrows():\n",
    "    if row['sh'] == 1:\n",
    "        if row['Target'] == \"Dropout\":\n",
    "            # If got scholarship and Dropout\n",
    "            dropout_S += 1\n",
    "        else:\n",
    "            # If got scholarship and Graduate\n",
    "            e_G_S += 1\n",
    "    else:\n",
    "        if row['Target'] == \"Dropout\":\n",
    "            # If no scholarship and Dropout\n",
    "            dropout_noS += 1\n",
    "        else:\n",
    "            # If no scholarship and Graduate\n",
    "            e_G_noS += 1\n",
    "\n",
    "# Variables\n",
    "# The following variables are show the percentage of students\n",
    "dropNSP = round(((dropout_noS / total_students) * 100), 2)\n",
    "dropSP = round(((dropout_S / total_students) * 100), 2)\n",
    "stayNSP = round(((e_G_noS / total_students) * 100), 2)\n",
    "staySP = round(((e_G_S / total_students) * 100), 2)"
   ]
  },
  {
   "cell_type": "code",
   "execution_count": 17,
   "metadata": {},
   "outputs": [
    {
     "data": {
      "text/plain": [
       "<Figure size 640x480 with 0 Axes>"
      ]
     },
     "metadata": {},
     "output_type": "display_data"
    }
   ],
   "source": [
    "# Create bar graph\n",
    "# Saved as .jpg in images folder\n",
    "# ------------------------------\n",
    "index = ['Has Scholarship', 'Does not']\n",
    "dropout = [dropout_S, dropout_noS]\n",
    "cont = [e_G_S, e_G_noS]\n",
    "bar_df = pd.DataFrame({'Dropout': dropout, 'Enrolled/Graduate': cont}, index=index)\n",
    "ax = bar_df.plot.bar(rot=0)\n",
    "plt.savefig('images/scholarshipBARgraph.jpg', dpi=300)\n",
    "plt.clf()"
   ]
  }
 ],
 "metadata": {
  "kernelspec": {
   "display_name": "base",
   "language": "python",
   "name": "python3"
  },
  "language_info": {
   "codemirror_mode": {
    "name": "ipython",
    "version": 3
   },
   "file_extension": ".py",
   "mimetype": "text/x-python",
   "name": "python",
   "nbconvert_exporter": "python",
   "pygments_lexer": "ipython3",
   "version": "3.11.5"
  }
 },
 "nbformat": 4,
 "nbformat_minor": 2
}
