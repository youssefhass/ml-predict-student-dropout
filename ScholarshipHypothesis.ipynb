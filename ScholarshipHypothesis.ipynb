{
 "cells": [
  {
   "cell_type": "markdown",
   "metadata": {},
   "source": [
    "### File Information\n",
    "\n",
    "- **Developer**: Youssef\n",
    "- **File Name**: ScholarshipHypothesis.ipynb\n",
    "- **Course**: Data Analytics MSc\n",
    "- **Purpose**: This file runs a series of tests to analyze aspects of the Predict students' dropout and academic success dataset.\n"
   ]
  }
 ],
 "metadata": {
  "language_info": {
   "name": "python"
  }
 },
 "nbformat": 4,
 "nbformat_minor": 2
}
